{
 "cells": [
  {
   "cell_type": "markdown",
   "id": "4d671d32-228c-438e-9a5e-33bfc4c462cf",
   "metadata": {},
   "source": [
    "# 1. Import dependencies"
   ]
  },
  {
   "cell_type": "code",
   "execution_count": 1,
   "id": "b341a3ba-109b-46cc-be94-53fcedc36f8a",
   "metadata": {
    "scrolled": true,
    "tags": []
   },
   "outputs": [
    {
     "name": "stdout",
     "output_type": "stream",
     "text": [
      "Package                      Version\n",
      "---------------------------- -------------------\n",
      "absl-py                      1.4.0\n",
      "asttokens                    2.2.1\n",
      "astunparse                   1.6.3\n",
      "backcall                     0.2.0\n",
      "cachetools                   5.3.1\n",
      "certifi                      2023.5.7\n",
      "charset-normalizer           3.2.0\n",
      "click                        8.1.4\n",
      "colorama                     0.4.6\n",
      "comm                         0.1.3\n",
      "contourpy                    1.1.0\n",
      "cycler                       0.11.0\n",
      "debugpy                      1.6.7\n",
      "decorator                    5.1.1\n",
      "dm-tree                      0.1.8\n",
      "etils                        1.3.0\n",
      "executing                    1.2.0\n",
      "flatbuffers                  23.5.26\n",
      "fonttools                    4.40.0\n",
      "gast                         0.5.4\n",
      "google-auth                  2.21.0\n",
      "google-auth-oauthlib         0.4.6\n",
      "google-pasta                 0.2.0\n",
      "googleapis-common-protos     1.56.4\n",
      "grpcio                       1.56.0\n",
      "h5py                         3.9.0\n",
      "idna                         3.4\n",
      "importlib-resources          6.0.0\n",
      "ipykernel                    6.24.0\n",
      "ipython                      8.14.0\n",
      "ipywidgets                   8.0.7\n",
      "jedi                         0.18.2\n",
      "joblib                       1.3.1\n",
      "jupyter_client               8.3.0\n",
      "jupyter_core                 5.3.1\n",
      "jupyterlab-widgets           3.0.8\n",
      "keras                        2.8.0\n",
      "Keras-Preprocessing          1.1.2\n",
      "kiwisolver                   1.4.4\n",
      "libclang                     16.0.0\n",
      "Markdown                     3.4.3\n",
      "MarkupSafe                   2.1.3\n",
      "matplotlib                   3.7.2\n",
      "matplotlib-inline            0.1.6\n",
      "nest-asyncio                 1.5.6\n",
      "numpy                        1.25.1\n",
      "oauthlib                     3.2.2\n",
      "opencv-python                4.8.0.74\n",
      "opt-einsum                   3.3.0\n",
      "packaging                    23.1\n",
      "pandas                       2.0.3\n",
      "parso                        0.8.3\n",
      "pickleshare                  0.7.5\n",
      "Pillow                       10.0.0\n",
      "pip                          23.1.2\n",
      "platformdirs                 3.8.1\n",
      "promise                      2.3\n",
      "prompt-toolkit               3.0.39\n",
      "protobuf                     3.19.1\n",
      "psutil                       5.9.5\n",
      "pure-eval                    0.2.2\n",
      "pyasn1                       0.5.0\n",
      "pyasn1-modules               0.3.0\n",
      "Pygments                     2.15.1\n",
      "pyparsing                    3.0.9\n",
      "python-dateutil              2.8.2\n",
      "pytz                         2023.3\n",
      "pywin32                      306\n",
      "pyzmq                        25.1.0\n",
      "requests                     2.31.0\n",
      "requests-oauthlib            1.3.1\n",
      "rsa                          4.9\n",
      "scikit-learn                 1.3.0\n",
      "scipy                        1.11.1\n",
      "setuptools                   65.5.0\n",
      "six                          1.16.0\n",
      "stack-data                   0.6.2\n",
      "tensorboard                  2.8.0\n",
      "tensorboard-data-server      0.6.1\n",
      "tensorboard-plugin-wit       1.8.1\n",
      "tensorflow                   2.8.0\n",
      "tensorflow-datasets          4.8.3\n",
      "tensorflow-gpu               2.8.0\n",
      "tensorflow-io-gcs-filesystem 0.31.0\n",
      "tensorflow-metadata          1.13.0\n",
      "termcolor                    2.3.0\n",
      "tf-estimator-nightly         2.8.0.dev2021122109\n",
      "threadpoolctl                3.1.0\n",
      "toml                         0.10.2\n",
      "tornado                      6.3.2\n",
      "tqdm                         4.65.0\n",
      "traitlets                    5.9.0\n",
      "typing_extensions            4.7.1\n",
      "tzdata                       2023.3\n",
      "urllib3                      1.26.16\n",
      "wcwidth                      0.2.6\n",
      "Werkzeug                     2.3.6\n",
      "wheel                        0.40.0\n",
      "widgetsnbextension           4.0.8\n",
      "wrapt                        1.15.0\n",
      "zipp                         3.16.0\n"
     ]
    }
   ],
   "source": [
    "!pip list"
   ]
  },
  {
   "cell_type": "code",
   "execution_count": 3,
   "id": "c9b4fbcd-2ce9-4832-9b1b-8c420831ffb3",
   "metadata": {
    "collapsed": true,
    "jupyter": {
     "outputs_hidden": true
    },
    "scrolled": true,
    "tags": []
   },
   "outputs": [
    {
     "name": "stdout",
     "output_type": "stream",
     "text": [
      "Requirement already satisfied: tensorflow_datasets in d:\\machine learning\\gan_fashionmnist\\gan_mnist\\lib\\site-packages (4.9.0)\n",
      "Requirement already satisfied: ipywidgets in d:\\machine learning\\gan_fashionmnist\\gan_mnist\\lib\\site-packages (8.0.7)\n",
      "Requirement already satisfied: absl-py in d:\\machine learning\\gan_fashionmnist\\gan_mnist\\lib\\site-packages (from tensorflow_datasets) (1.4.0)\n",
      "Requirement already satisfied: array-record in d:\\machine learning\\gan_fashionmnist\\gan_mnist\\lib\\site-packages (from tensorflow_datasets) (0.4.0)\n",
      "Requirement already satisfied: click in d:\\machine learning\\gan_fashionmnist\\gan_mnist\\lib\\site-packages (from tensorflow_datasets) (8.1.4)\n",
      "Requirement already satisfied: dm-tree in d:\\machine learning\\gan_fashionmnist\\gan_mnist\\lib\\site-packages (from tensorflow_datasets) (0.1.8)\n",
      "Requirement already satisfied: etils[enp,epath]>=0.9.0 in d:\\machine learning\\gan_fashionmnist\\gan_mnist\\lib\\site-packages (from tensorflow_datasets) (1.3.0)\n",
      "Requirement already satisfied: numpy in d:\\machine learning\\gan_fashionmnist\\gan_mnist\\lib\\site-packages (from tensorflow_datasets) (1.25.1)\n",
      "Requirement already satisfied: promise in d:\\machine learning\\gan_fashionmnist\\gan_mnist\\lib\\site-packages (from tensorflow_datasets) (2.3)\n",
      "Requirement already satisfied: protobuf in d:\\machine learning\\gan_fashionmnist\\gan_mnist\\lib\\site-packages (from tensorflow_datasets) (3.19.1)\n",
      "Requirement already satisfied: psutil in d:\\machine learning\\gan_fashionmnist\\gan_mnist\\lib\\site-packages (from tensorflow_datasets) (5.9.5)\n",
      "Requirement already satisfied: requests>=2.19.0 in d:\\machine learning\\gan_fashionmnist\\gan_mnist\\lib\\site-packages (from tensorflow_datasets) (2.31.0)\n",
      "Requirement already satisfied: tensorflow-metadata in d:\\machine learning\\gan_fashionmnist\\gan_mnist\\lib\\site-packages (from tensorflow_datasets) (1.13.0)\n",
      "Requirement already satisfied: termcolor in d:\\machine learning\\gan_fashionmnist\\gan_mnist\\lib\\site-packages (from tensorflow_datasets) (2.3.0)\n",
      "Requirement already satisfied: toml in d:\\machine learning\\gan_fashionmnist\\gan_mnist\\lib\\site-packages (from tensorflow_datasets) (0.10.2)\n",
      "Requirement already satisfied: tqdm in d:\\machine learning\\gan_fashionmnist\\gan_mnist\\lib\\site-packages (from tensorflow_datasets) (4.65.0)\n",
      "Requirement already satisfied: wrapt in d:\\machine learning\\gan_fashionmnist\\gan_mnist\\lib\\site-packages (from tensorflow_datasets) (1.15.0)\n",
      "Requirement already satisfied: ipykernel>=4.5.1 in d:\\machine learning\\gan_fashionmnist\\gan_mnist\\lib\\site-packages (from ipywidgets) (6.24.0)\n",
      "Requirement already satisfied: ipython>=6.1.0 in d:\\machine learning\\gan_fashionmnist\\gan_mnist\\lib\\site-packages (from ipywidgets) (8.14.0)\n",
      "Requirement already satisfied: traitlets>=4.3.1 in d:\\machine learning\\gan_fashionmnist\\gan_mnist\\lib\\site-packages (from ipywidgets) (5.9.0)\n",
      "Requirement already satisfied: widgetsnbextension~=4.0.7 in d:\\machine learning\\gan_fashionmnist\\gan_mnist\\lib\\site-packages (from ipywidgets) (4.0.8)\n",
      "Requirement already satisfied: jupyterlab-widgets~=3.0.7 in d:\\machine learning\\gan_fashionmnist\\gan_mnist\\lib\\site-packages (from ipywidgets) (3.0.8)\n",
      "Requirement already satisfied: importlib_resources in d:\\machine learning\\gan_fashionmnist\\gan_mnist\\lib\\site-packages (from etils[enp,epath]>=0.9.0->tensorflow_datasets) (6.0.0)\n",
      "Requirement already satisfied: typing_extensions in d:\\machine learning\\gan_fashionmnist\\gan_mnist\\lib\\site-packages (from etils[enp,epath]>=0.9.0->tensorflow_datasets) (4.7.1)\n",
      "Requirement already satisfied: zipp in d:\\machine learning\\gan_fashionmnist\\gan_mnist\\lib\\site-packages (from etils[enp,epath]>=0.9.0->tensorflow_datasets) (3.16.0)\n",
      "Requirement already satisfied: comm>=0.1.1 in d:\\machine learning\\gan_fashionmnist\\gan_mnist\\lib\\site-packages (from ipykernel>=4.5.1->ipywidgets) (0.1.3)\n",
      "Requirement already satisfied: debugpy>=1.6.5 in d:\\machine learning\\gan_fashionmnist\\gan_mnist\\lib\\site-packages (from ipykernel>=4.5.1->ipywidgets) (1.6.7)\n",
      "Requirement already satisfied: jupyter-client>=6.1.12 in d:\\machine learning\\gan_fashionmnist\\gan_mnist\\lib\\site-packages (from ipykernel>=4.5.1->ipywidgets) (8.3.0)\n",
      "Requirement already satisfied: jupyter-core!=5.0.*,>=4.12 in d:\\machine learning\\gan_fashionmnist\\gan_mnist\\lib\\site-packages (from ipykernel>=4.5.1->ipywidgets) (5.3.1)\n",
      "Requirement already satisfied: matplotlib-inline>=0.1 in d:\\machine learning\\gan_fashionmnist\\gan_mnist\\lib\\site-packages (from ipykernel>=4.5.1->ipywidgets) (0.1.6)\n",
      "Requirement already satisfied: nest-asyncio in d:\\machine learning\\gan_fashionmnist\\gan_mnist\\lib\\site-packages (from ipykernel>=4.5.1->ipywidgets) (1.5.6)\n",
      "Requirement already satisfied: packaging in d:\\machine learning\\gan_fashionmnist\\gan_mnist\\lib\\site-packages (from ipykernel>=4.5.1->ipywidgets) (23.1)\n",
      "Requirement already satisfied: pyzmq>=20 in d:\\machine learning\\gan_fashionmnist\\gan_mnist\\lib\\site-packages (from ipykernel>=4.5.1->ipywidgets) (25.1.0)\n",
      "Requirement already satisfied: tornado>=6.1 in d:\\machine learning\\gan_fashionmnist\\gan_mnist\\lib\\site-packages (from ipykernel>=4.5.1->ipywidgets) (6.3.2)\n",
      "Requirement already satisfied: backcall in d:\\machine learning\\gan_fashionmnist\\gan_mnist\\lib\\site-packages (from ipython>=6.1.0->ipywidgets) (0.2.0)\n",
      "Requirement already satisfied: decorator in d:\\machine learning\\gan_fashionmnist\\gan_mnist\\lib\\site-packages (from ipython>=6.1.0->ipywidgets) (5.1.1)\n",
      "Requirement already satisfied: jedi>=0.16 in d:\\machine learning\\gan_fashionmnist\\gan_mnist\\lib\\site-packages (from ipython>=6.1.0->ipywidgets) (0.18.2)\n",
      "Requirement already satisfied: pickleshare in d:\\machine learning\\gan_fashionmnist\\gan_mnist\\lib\\site-packages (from ipython>=6.1.0->ipywidgets) (0.7.5)\n",
      "Requirement already satisfied: prompt-toolkit!=3.0.37,<3.1.0,>=3.0.30 in d:\\machine learning\\gan_fashionmnist\\gan_mnist\\lib\\site-packages (from ipython>=6.1.0->ipywidgets) (3.0.39)\n",
      "Requirement already satisfied: pygments>=2.4.0 in d:\\machine learning\\gan_fashionmnist\\gan_mnist\\lib\\site-packages (from ipython>=6.1.0->ipywidgets) (2.15.1)\n",
      "Requirement already satisfied: stack-data in d:\\machine learning\\gan_fashionmnist\\gan_mnist\\lib\\site-packages (from ipython>=6.1.0->ipywidgets) (0.6.2)\n",
      "Requirement already satisfied: colorama in d:\\machine learning\\gan_fashionmnist\\gan_mnist\\lib\\site-packages (from ipython>=6.1.0->ipywidgets) (0.4.6)\n",
      "Requirement already satisfied: charset-normalizer<4,>=2 in d:\\machine learning\\gan_fashionmnist\\gan_mnist\\lib\\site-packages (from requests>=2.19.0->tensorflow_datasets) (3.2.0)\n",
      "Requirement already satisfied: idna<4,>=2.5 in d:\\machine learning\\gan_fashionmnist\\gan_mnist\\lib\\site-packages (from requests>=2.19.0->tensorflow_datasets) (3.4)\n",
      "Requirement already satisfied: urllib3<3,>=1.21.1 in d:\\machine learning\\gan_fashionmnist\\gan_mnist\\lib\\site-packages (from requests>=2.19.0->tensorflow_datasets) (1.26.16)\n",
      "Requirement already satisfied: certifi>=2017.4.17 in d:\\machine learning\\gan_fashionmnist\\gan_mnist\\lib\\site-packages (from requests>=2.19.0->tensorflow_datasets) (2023.5.7)\n",
      "Requirement already satisfied: six in d:\\machine learning\\gan_fashionmnist\\gan_mnist\\lib\\site-packages (from promise->tensorflow_datasets) (1.16.0)\n",
      "Requirement already satisfied: googleapis-common-protos<2,>=1.52.0 in d:\\machine learning\\gan_fashionmnist\\gan_mnist\\lib\\site-packages (from tensorflow-metadata->tensorflow_datasets) (1.56.4)\n",
      "Requirement already satisfied: parso<0.9.0,>=0.8.0 in d:\\machine learning\\gan_fashionmnist\\gan_mnist\\lib\\site-packages (from jedi>=0.16->ipython>=6.1.0->ipywidgets) (0.8.3)\n",
      "Requirement already satisfied: python-dateutil>=2.8.2 in d:\\machine learning\\gan_fashionmnist\\gan_mnist\\lib\\site-packages (from jupyter-client>=6.1.12->ipykernel>=4.5.1->ipywidgets) (2.8.2)\n",
      "Requirement already satisfied: platformdirs>=2.5 in d:\\machine learning\\gan_fashionmnist\\gan_mnist\\lib\\site-packages (from jupyter-core!=5.0.*,>=4.12->ipykernel>=4.5.1->ipywidgets) (3.8.1)\n",
      "Requirement already satisfied: pywin32>=300 in d:\\machine learning\\gan_fashionmnist\\gan_mnist\\lib\\site-packages (from jupyter-core!=5.0.*,>=4.12->ipykernel>=4.5.1->ipywidgets) (306)\n",
      "Requirement already satisfied: wcwidth in d:\\machine learning\\gan_fashionmnist\\gan_mnist\\lib\\site-packages (from prompt-toolkit!=3.0.37,<3.1.0,>=3.0.30->ipython>=6.1.0->ipywidgets) (0.2.6)\n",
      "Requirement already satisfied: executing>=1.2.0 in d:\\machine learning\\gan_fashionmnist\\gan_mnist\\lib\\site-packages (from stack-data->ipython>=6.1.0->ipywidgets) (1.2.0)\n",
      "Requirement already satisfied: asttokens>=2.1.0 in d:\\machine learning\\gan_fashionmnist\\gan_mnist\\lib\\site-packages (from stack-data->ipython>=6.1.0->ipywidgets) (2.2.1)\n",
      "Requirement already satisfied: pure-eval in d:\\machine learning\\gan_fashionmnist\\gan_mnist\\lib\\site-packages (from stack-data->ipython>=6.1.0->ipywidgets) (0.2.2)\n"
     ]
    }
   ],
   "source": [
    "!pip install tensorflow_datasets ipywidgets"
   ]
  },
  {
   "cell_type": "code",
   "execution_count": 2,
   "id": "aa922b95-a8c6-45cf-90b9-cdb05539d411",
   "metadata": {},
   "outputs": [],
   "source": [
    "# Bringing in tensorflow\n",
    "import tensorflow as tf\n",
    "# Brining in tensorflow datasets for fashion mnist \n",
    "import tensorflow_datasets as tfds\n",
    "# Bringing in matplotlib for viz stuff\n",
    "from matplotlib import pyplot as plt"
   ]
  },
  {
   "cell_type": "code",
   "execution_count": 7,
   "id": "a84a92d4-cbce-478f-8569-758b7aa0bb28",
   "metadata": {},
   "outputs": [
    {
     "data": {
      "text/plain": [
       "(True, [PhysicalDevice(name='/physical_device:GPU:0', device_type='GPU')])"
      ]
     },
     "execution_count": 7,
     "metadata": {},
     "output_type": "execute_result"
    }
   ],
   "source": [
    "# Limit GPU memory growth:\n",
    "gpus = tf.config.experimental.list_physical_devices('GPU')\n",
    "for gpu in gpus:\n",
    "    tf.config.experimental.set_memory_growth(gpu, True)\n",
    "\n",
    "tf.test.is_gpu_available(), tf.config.list_physical_devices('GPU')"
   ]
  },
  {
   "cell_type": "code",
   "execution_count": 8,
   "id": "362decc5-3910-44d1-b741-3361da45c9dc",
   "metadata": {},
   "outputs": [
    {
     "name": "stdout",
     "output_type": "stream",
     "text": [
      "GPU 0: NVIDIA GeForce GTX 1070 (UUID: GPU-8d2571e5-e841-58d8-7d52-99ff2d58a8a2)\n"
     ]
    }
   ],
   "source": [
    "!nvidia-smi -L"
   ]
  },
  {
   "cell_type": "code",
   "execution_count": 9,
   "id": "52f3f05d-e9b8-4827-bd3d-7162ecf85111",
   "metadata": {},
   "outputs": [
    {
     "name": "stdout",
     "output_type": "stream",
     "text": [
      "\u001b[1mDownloading and preparing dataset Unknown size (download: Unknown size, generated: Unknown size, total: Unknown size) to C:\\Users\\david\\tensorflow_datasets\\fashion_mnist\\3.0.1...\u001b[0m\n"
     ]
    },
    {
     "data": {
      "application/vnd.jupyter.widget-view+json": {
       "model_id": "85245bb6fa404ed2bd1e0341f44c95fb",
       "version_major": 2,
       "version_minor": 0
      },
      "text/plain": [
       "Dl Completed...: 0 url [00:00, ? url/s]"
      ]
     },
     "metadata": {},
     "output_type": "display_data"
    },
    {
     "data": {
      "application/vnd.jupyter.widget-view+json": {
       "model_id": "22a58cd877a34417aada3f832c3d9efa",
       "version_major": 2,
       "version_minor": 0
      },
      "text/plain": [
       "Dl Size...: 0 MiB [00:00, ? MiB/s]"
      ]
     },
     "metadata": {},
     "output_type": "display_data"
    },
    {
     "data": {
      "application/vnd.jupyter.widget-view+json": {
       "model_id": "4916b35bfe99424db5b2c50d663d547f",
       "version_major": 2,
       "version_minor": 0
      },
      "text/plain": [
       "Extraction completed...: 0 file [00:00, ? file/s]"
      ]
     },
     "metadata": {},
     "output_type": "display_data"
    },
    {
     "data": {
      "application/vnd.jupyter.widget-view+json": {
       "model_id": "ada2750e671e48ab97dd869198a101de",
       "version_major": 2,
       "version_minor": 0
      },
      "text/plain": [
       "Generating splits...:   0%|          | 0/2 [00:00<?, ? splits/s]"
      ]
     },
     "metadata": {},
     "output_type": "display_data"
    },
    {
     "data": {
      "application/vnd.jupyter.widget-view+json": {
       "model_id": "c3d54f76712243f1ba0407e46b72589e",
       "version_major": 2,
       "version_minor": 0
      },
      "text/plain": [
       "Generating train examples...: 0 examples [00:00, ? examples/s]"
      ]
     },
     "metadata": {},
     "output_type": "display_data"
    },
    {
     "data": {
      "application/vnd.jupyter.widget-view+json": {
       "model_id": "eb67395840944cde99eba56076af2328",
       "version_major": 2,
       "version_minor": 0
      },
      "text/plain": [
       "Shuffling C:\\Users\\david\\tensorflow_datasets\\fashion_mnist\\3.0.1.incompleteSGPSRK\\fashion_mnist-train.tfrecord…"
      ]
     },
     "metadata": {},
     "output_type": "display_data"
    },
    {
     "data": {
      "application/vnd.jupyter.widget-view+json": {
       "model_id": "c95b09898b404827bf595160e029a5a0",
       "version_major": 2,
       "version_minor": 0
      },
      "text/plain": [
       "Generating test examples...: 0 examples [00:00, ? examples/s]"
      ]
     },
     "metadata": {},
     "output_type": "display_data"
    },
    {
     "data": {
      "application/vnd.jupyter.widget-view+json": {
       "model_id": "42303fcefc484f09a39c58c887a076d4",
       "version_major": 2,
       "version_minor": 0
      },
      "text/plain": [
       "Shuffling C:\\Users\\david\\tensorflow_datasets\\fashion_mnist\\3.0.1.incompleteSGPSRK\\fashion_mnist-test.tfrecord*…"
      ]
     },
     "metadata": {},
     "output_type": "display_data"
    },
    {
     "name": "stdout",
     "output_type": "stream",
     "text": [
      "\u001b[1mDataset fashion_mnist downloaded and prepared to C:\\Users\\david\\tensorflow_datasets\\fashion_mnist\\3.0.1. Subsequent calls will reuse this data.\u001b[0m\n"
     ]
    }
   ],
   "source": [
    "# Use the tensorflow datasets api to bring in the data source\n",
    "ds = tfds.load('fashion_mnist', split='train')"
   ]
  },
  {
   "cell_type": "code",
   "execution_count": 10,
   "id": "081ee0bd-c7b0-4903-9406-e7320bfa3355",
   "metadata": {},
   "outputs": [
    {
     "data": {
      "text/plain": [
       "2"
      ]
     },
     "execution_count": 10,
     "metadata": {},
     "output_type": "execute_result"
    }
   ],
   "source": [
    "ds.as_numpy_iterator().next()['label']"
   ]
  },
  {
   "cell_type": "code",
   "execution_count": 22,
   "id": "7358a459-c66a-4dee-adce-7ba6d8328cb2",
   "metadata": {},
   "outputs": [
    {
     "data": {
      "text/plain": [
       "<PrefetchDataset element_spec=TensorSpec(shape=(None, 28, 28, 1), dtype=tf.float32, name=None)>"
      ]
     },
     "execution_count": 22,
     "metadata": {},
     "output_type": "execute_result"
    }
   ],
   "source": [
    "ds # like a pipeline: repeat calls to retrieve more data"
   ]
  },
  {
   "cell_type": "markdown",
   "id": "92b043f8-4eec-4e9d-86d6-e79e59e6dfb5",
   "metadata": {},
   "source": [
    "# 2. Visualise data and build dataset"
   ]
  },
  {
   "cell_type": "code",
   "execution_count": 14,
   "id": "98891a38-065a-4059-95bd-862d926afa9a",
   "metadata": {},
   "outputs": [],
   "source": [
    "# Do some data transformation\n",
    "import numpy as np"
   ]
  },
  {
   "cell_type": "code",
   "execution_count": 15,
   "id": "b11c82cc-a8ea-46fd-a985-220ada0a8f1a",
   "metadata": {},
   "outputs": [],
   "source": [
    "# Setup connection aka iterator\n",
    "dataiterator = ds.as_numpy_iterator()"
   ]
  },
  {
   "cell_type": "code",
   "execution_count": 16,
   "id": "a4b912c4-6a15-43ce-b3c5-f28371fd77c1",
   "metadata": {
    "scrolled": true,
    "tags": []
   },
   "outputs": [
    {
     "data": {
      "text/plain": [
       "array([[[  0],\n",
       "        [  0],\n",
       "        [  0],\n",
       "        [  0],\n",
       "        [  0],\n",
       "        [  0],\n",
       "        [  0],\n",
       "        [  0],\n",
       "        [  0],\n",
       "        [ 18],\n",
       "        [ 77],\n",
       "        [227],\n",
       "        [227],\n",
       "        [208],\n",
       "        [210],\n",
       "        [225],\n",
       "        [216],\n",
       "        [ 85],\n",
       "        [ 32],\n",
       "        [  0],\n",
       "        [  0],\n",
       "        [  0],\n",
       "        [  0],\n",
       "        [  0],\n",
       "        [  0],\n",
       "        [  0],\n",
       "        [  0],\n",
       "        [  0]],\n",
       "\n",
       "       [[  0],\n",
       "        [  0],\n",
       "        [  0],\n",
       "        [  0],\n",
       "        [  0],\n",
       "        [  0],\n",
       "        [  0],\n",
       "        [ 61],\n",
       "        [100],\n",
       "        [ 97],\n",
       "        [ 80],\n",
       "        [ 57],\n",
       "        [117],\n",
       "        [227],\n",
       "        [238],\n",
       "        [115],\n",
       "        [ 49],\n",
       "        [ 78],\n",
       "        [106],\n",
       "        [108],\n",
       "        [ 71],\n",
       "        [  0],\n",
       "        [  0],\n",
       "        [  0],\n",
       "        [  0],\n",
       "        [  0],\n",
       "        [  0],\n",
       "        [  0]],\n",
       "\n",
       "       [[  0],\n",
       "        [  0],\n",
       "        [  0],\n",
       "        [  0],\n",
       "        [  0],\n",
       "        [  0],\n",
       "        [ 81],\n",
       "        [105],\n",
       "        [ 80],\n",
       "        [ 69],\n",
       "        [ 72],\n",
       "        [ 64],\n",
       "        [ 44],\n",
       "        [ 21],\n",
       "        [ 13],\n",
       "        [ 44],\n",
       "        [ 69],\n",
       "        [ 75],\n",
       "        [ 75],\n",
       "        [ 80],\n",
       "        [114],\n",
       "        [ 80],\n",
       "        [  0],\n",
       "        [  0],\n",
       "        [  0],\n",
       "        [  0],\n",
       "        [  0],\n",
       "        [  0]],\n",
       "\n",
       "       [[  0],\n",
       "        [  0],\n",
       "        [  0],\n",
       "        [  0],\n",
       "        [  0],\n",
       "        [ 26],\n",
       "        [ 92],\n",
       "        [ 69],\n",
       "        [ 68],\n",
       "        [ 75],\n",
       "        [ 75],\n",
       "        [ 71],\n",
       "        [ 74],\n",
       "        [ 83],\n",
       "        [ 75],\n",
       "        [ 77],\n",
       "        [ 78],\n",
       "        [ 74],\n",
       "        [ 74],\n",
       "        [ 83],\n",
       "        [ 77],\n",
       "        [108],\n",
       "        [ 34],\n",
       "        [  0],\n",
       "        [  0],\n",
       "        [  0],\n",
       "        [  0],\n",
       "        [  0]],\n",
       "\n",
       "       [[  0],\n",
       "        [  0],\n",
       "        [  0],\n",
       "        [  0],\n",
       "        [  0],\n",
       "        [ 55],\n",
       "        [ 92],\n",
       "        [ 69],\n",
       "        [ 74],\n",
       "        [ 74],\n",
       "        [ 71],\n",
       "        [ 71],\n",
       "        [ 77],\n",
       "        [ 69],\n",
       "        [ 66],\n",
       "        [ 75],\n",
       "        [ 74],\n",
       "        [ 77],\n",
       "        [ 80],\n",
       "        [ 80],\n",
       "        [ 78],\n",
       "        [ 94],\n",
       "        [ 63],\n",
       "        [  0],\n",
       "        [  0],\n",
       "        [  0],\n",
       "        [  0],\n",
       "        [  0]],\n",
       "\n",
       "       [[  0],\n",
       "        [  0],\n",
       "        [  0],\n",
       "        [  0],\n",
       "        [  0],\n",
       "        [ 63],\n",
       "        [ 95],\n",
       "        [ 66],\n",
       "        [ 68],\n",
       "        [ 72],\n",
       "        [ 72],\n",
       "        [ 69],\n",
       "        [ 72],\n",
       "        [ 74],\n",
       "        [ 74],\n",
       "        [ 74],\n",
       "        [ 75],\n",
       "        [ 75],\n",
       "        [ 77],\n",
       "        [ 80],\n",
       "        [ 77],\n",
       "        [106],\n",
       "        [ 61],\n",
       "        [  0],\n",
       "        [  0],\n",
       "        [  0],\n",
       "        [  0],\n",
       "        [  0]],\n",
       "\n",
       "       [[  0],\n",
       "        [  0],\n",
       "        [  0],\n",
       "        [  0],\n",
       "        [  0],\n",
       "        [ 80],\n",
       "        [108],\n",
       "        [ 71],\n",
       "        [ 69],\n",
       "        [ 72],\n",
       "        [ 71],\n",
       "        [ 69],\n",
       "        [ 72],\n",
       "        [ 75],\n",
       "        [ 75],\n",
       "        [ 72],\n",
       "        [ 72],\n",
       "        [ 75],\n",
       "        [ 78],\n",
       "        [ 72],\n",
       "        [ 85],\n",
       "        [128],\n",
       "        [ 64],\n",
       "        [  0],\n",
       "        [  0],\n",
       "        [  0],\n",
       "        [  0],\n",
       "        [  0]],\n",
       "\n",
       "       [[  0],\n",
       "        [  0],\n",
       "        [  0],\n",
       "        [  0],\n",
       "        [  0],\n",
       "        [ 88],\n",
       "        [120],\n",
       "        [ 75],\n",
       "        [ 74],\n",
       "        [ 77],\n",
       "        [ 75],\n",
       "        [ 72],\n",
       "        [ 77],\n",
       "        [ 74],\n",
       "        [ 74],\n",
       "        [ 77],\n",
       "        [ 78],\n",
       "        [ 83],\n",
       "        [ 83],\n",
       "        [ 66],\n",
       "        [111],\n",
       "        [123],\n",
       "        [ 78],\n",
       "        [  0],\n",
       "        [  0],\n",
       "        [  0],\n",
       "        [  0],\n",
       "        [  0]],\n",
       "\n",
       "       [[  0],\n",
       "        [  0],\n",
       "        [  0],\n",
       "        [  0],\n",
       "        [  0],\n",
       "        [ 85],\n",
       "        [134],\n",
       "        [ 74],\n",
       "        [ 85],\n",
       "        [ 69],\n",
       "        [ 75],\n",
       "        [ 75],\n",
       "        [ 74],\n",
       "        [ 75],\n",
       "        [ 74],\n",
       "        [ 75],\n",
       "        [ 75],\n",
       "        [ 81],\n",
       "        [ 75],\n",
       "        [ 61],\n",
       "        [151],\n",
       "        [115],\n",
       "        [ 91],\n",
       "        [ 12],\n",
       "        [  0],\n",
       "        [  0],\n",
       "        [  0],\n",
       "        [  0]],\n",
       "\n",
       "       [[  0],\n",
       "        [  0],\n",
       "        [  0],\n",
       "        [  0],\n",
       "        [ 10],\n",
       "        [ 85],\n",
       "        [153],\n",
       "        [ 83],\n",
       "        [ 80],\n",
       "        [ 68],\n",
       "        [ 77],\n",
       "        [ 75],\n",
       "        [ 74],\n",
       "        [ 75],\n",
       "        [ 74],\n",
       "        [ 75],\n",
       "        [ 77],\n",
       "        [ 80],\n",
       "        [ 68],\n",
       "        [ 61],\n",
       "        [162],\n",
       "        [122],\n",
       "        [ 78],\n",
       "        [  6],\n",
       "        [  0],\n",
       "        [  0],\n",
       "        [  0],\n",
       "        [  0]],\n",
       "\n",
       "       [[  0],\n",
       "        [  0],\n",
       "        [  0],\n",
       "        [  0],\n",
       "        [ 30],\n",
       "        [ 75],\n",
       "        [154],\n",
       "        [ 85],\n",
       "        [ 80],\n",
       "        [ 71],\n",
       "        [ 80],\n",
       "        [ 72],\n",
       "        [ 77],\n",
       "        [ 75],\n",
       "        [ 75],\n",
       "        [ 77],\n",
       "        [ 78],\n",
       "        [ 77],\n",
       "        [ 75],\n",
       "        [ 49],\n",
       "        [191],\n",
       "        [132],\n",
       "        [ 72],\n",
       "        [ 15],\n",
       "        [  0],\n",
       "        [  0],\n",
       "        [  0],\n",
       "        [  0]],\n",
       "\n",
       "       [[  0],\n",
       "        [  0],\n",
       "        [  0],\n",
       "        [  0],\n",
       "        [ 58],\n",
       "        [ 66],\n",
       "        [174],\n",
       "        [115],\n",
       "        [ 66],\n",
       "        [ 77],\n",
       "        [ 80],\n",
       "        [ 72],\n",
       "        [ 78],\n",
       "        [ 75],\n",
       "        [ 77],\n",
       "        [ 78],\n",
       "        [ 78],\n",
       "        [ 77],\n",
       "        [ 66],\n",
       "        [ 49],\n",
       "        [222],\n",
       "        [131],\n",
       "        [ 77],\n",
       "        [ 37],\n",
       "        [  0],\n",
       "        [  0],\n",
       "        [  0],\n",
       "        [  0]],\n",
       "\n",
       "       [[  0],\n",
       "        [  0],\n",
       "        [  0],\n",
       "        [  0],\n",
       "        [ 69],\n",
       "        [ 55],\n",
       "        [179],\n",
       "        [139],\n",
       "        [ 55],\n",
       "        [ 92],\n",
       "        [ 74],\n",
       "        [ 74],\n",
       "        [ 78],\n",
       "        [ 74],\n",
       "        [ 78],\n",
       "        [ 77],\n",
       "        [ 75],\n",
       "        [ 80],\n",
       "        [ 64],\n",
       "        [ 55],\n",
       "        [242],\n",
       "        [111],\n",
       "        [ 95],\n",
       "        [ 44],\n",
       "        [  0],\n",
       "        [  0],\n",
       "        [  0],\n",
       "        [  0]],\n",
       "\n",
       "       [[  0],\n",
       "        [  0],\n",
       "        [  0],\n",
       "        [  0],\n",
       "        [ 74],\n",
       "        [ 57],\n",
       "        [159],\n",
       "        [180],\n",
       "        [ 55],\n",
       "        [ 92],\n",
       "        [ 64],\n",
       "        [ 72],\n",
       "        [ 74],\n",
       "        [ 74],\n",
       "        [ 77],\n",
       "        [ 75],\n",
       "        [ 77],\n",
       "        [ 78],\n",
       "        [ 55],\n",
       "        [ 66],\n",
       "        [255],\n",
       "        [ 97],\n",
       "        [108],\n",
       "        [ 49],\n",
       "        [  0],\n",
       "        [  0],\n",
       "        [  0],\n",
       "        [  0]],\n",
       "\n",
       "       [[  0],\n",
       "        [  0],\n",
       "        [  0],\n",
       "        [  0],\n",
       "        [ 74],\n",
       "        [ 66],\n",
       "        [145],\n",
       "        [153],\n",
       "        [ 72],\n",
       "        [ 83],\n",
       "        [ 58],\n",
       "        [ 78],\n",
       "        [ 77],\n",
       "        [ 75],\n",
       "        [ 75],\n",
       "        [ 75],\n",
       "        [ 72],\n",
       "        [ 80],\n",
       "        [ 30],\n",
       "        [132],\n",
       "        [255],\n",
       "        [ 37],\n",
       "        [122],\n",
       "        [ 60],\n",
       "        [  0],\n",
       "        [  0],\n",
       "        [  0],\n",
       "        [  0]],\n",
       "\n",
       "       [[  0],\n",
       "        [  0],\n",
       "        [  0],\n",
       "        [  0],\n",
       "        [ 80],\n",
       "        [ 69],\n",
       "        [142],\n",
       "        [180],\n",
       "        [142],\n",
       "        [ 57],\n",
       "        [ 64],\n",
       "        [ 78],\n",
       "        [ 74],\n",
       "        [ 75],\n",
       "        [ 75],\n",
       "        [ 75],\n",
       "        [ 72],\n",
       "        [ 85],\n",
       "        [ 21],\n",
       "        [185],\n",
       "        [227],\n",
       "        [ 37],\n",
       "        [143],\n",
       "        [ 63],\n",
       "        [  0],\n",
       "        [  0],\n",
       "        [  0],\n",
       "        [  0]],\n",
       "\n",
       "       [[  0],\n",
       "        [  0],\n",
       "        [  0],\n",
       "        [  0],\n",
       "        [ 83],\n",
       "        [ 71],\n",
       "        [136],\n",
       "        [194],\n",
       "        [126],\n",
       "        [ 46],\n",
       "        [ 69],\n",
       "        [ 75],\n",
       "        [ 72],\n",
       "        [ 75],\n",
       "        [ 75],\n",
       "        [ 75],\n",
       "        [ 74],\n",
       "        [ 78],\n",
       "        [ 38],\n",
       "        [139],\n",
       "        [185],\n",
       "        [ 60],\n",
       "        [151],\n",
       "        [ 58],\n",
       "        [  0],\n",
       "        [  0],\n",
       "        [  0],\n",
       "        [  0]],\n",
       "\n",
       "       [[  0],\n",
       "        [  0],\n",
       "        [  0],\n",
       "        [  4],\n",
       "        [ 81],\n",
       "        [ 74],\n",
       "        [145],\n",
       "        [177],\n",
       "        [ 78],\n",
       "        [ 49],\n",
       "        [ 74],\n",
       "        [ 77],\n",
       "        [ 75],\n",
       "        [ 75],\n",
       "        [ 75],\n",
       "        [ 75],\n",
       "        [ 74],\n",
       "        [ 72],\n",
       "        [ 63],\n",
       "        [ 80],\n",
       "        [156],\n",
       "        [117],\n",
       "        [153],\n",
       "        [ 55],\n",
       "        [  0],\n",
       "        [  0],\n",
       "        [  0],\n",
       "        [  0]],\n",
       "\n",
       "       [[  0],\n",
       "        [  0],\n",
       "        [  0],\n",
       "        [ 10],\n",
       "        [ 80],\n",
       "        [ 72],\n",
       "        [157],\n",
       "        [163],\n",
       "        [ 61],\n",
       "        [ 55],\n",
       "        [ 75],\n",
       "        [ 77],\n",
       "        [ 75],\n",
       "        [ 77],\n",
       "        [ 75],\n",
       "        [ 75],\n",
       "        [ 75],\n",
       "        [ 77],\n",
       "        [ 71],\n",
       "        [ 60],\n",
       "        [ 98],\n",
       "        [156],\n",
       "        [132],\n",
       "        [ 58],\n",
       "        [  0],\n",
       "        [  0],\n",
       "        [  0],\n",
       "        [  0]],\n",
       "\n",
       "       [[  0],\n",
       "        [  0],\n",
       "        [  0],\n",
       "        [ 13],\n",
       "        [ 77],\n",
       "        [ 74],\n",
       "        [157],\n",
       "        [143],\n",
       "        [ 43],\n",
       "        [ 61],\n",
       "        [ 72],\n",
       "        [ 75],\n",
       "        [ 77],\n",
       "        [ 75],\n",
       "        [ 74],\n",
       "        [ 77],\n",
       "        [ 77],\n",
       "        [ 75],\n",
       "        [ 71],\n",
       "        [ 58],\n",
       "        [ 80],\n",
       "        [157],\n",
       "        [120],\n",
       "        [ 66],\n",
       "        [  0],\n",
       "        [  0],\n",
       "        [  0],\n",
       "        [  0]],\n",
       "\n",
       "       [[  0],\n",
       "        [  0],\n",
       "        [  0],\n",
       "        [ 18],\n",
       "        [ 81],\n",
       "        [ 74],\n",
       "        [156],\n",
       "        [114],\n",
       "        [ 35],\n",
       "        [ 72],\n",
       "        [ 71],\n",
       "        [ 75],\n",
       "        [ 78],\n",
       "        [ 72],\n",
       "        [ 66],\n",
       "        [ 80],\n",
       "        [ 78],\n",
       "        [ 77],\n",
       "        [ 75],\n",
       "        [ 64],\n",
       "        [ 63],\n",
       "        [165],\n",
       "        [119],\n",
       "        [ 68],\n",
       "        [  0],\n",
       "        [  0],\n",
       "        [  0],\n",
       "        [  0]],\n",
       "\n",
       "       [[  0],\n",
       "        [  0],\n",
       "        [  0],\n",
       "        [ 23],\n",
       "        [ 85],\n",
       "        [ 81],\n",
       "        [177],\n",
       "        [ 57],\n",
       "        [ 52],\n",
       "        [ 77],\n",
       "        [ 71],\n",
       "        [ 78],\n",
       "        [ 80],\n",
       "        [ 72],\n",
       "        [ 75],\n",
       "        [ 74],\n",
       "        [ 77],\n",
       "        [ 77],\n",
       "        [ 75],\n",
       "        [ 64],\n",
       "        [ 37],\n",
       "        [173],\n",
       "        [ 95],\n",
       "        [ 72],\n",
       "        [  0],\n",
       "        [  0],\n",
       "        [  0],\n",
       "        [  0]],\n",
       "\n",
       "       [[  0],\n",
       "        [  0],\n",
       "        [  0],\n",
       "        [ 26],\n",
       "        [ 81],\n",
       "        [ 86],\n",
       "        [160],\n",
       "        [ 20],\n",
       "        [ 75],\n",
       "        [ 77],\n",
       "        [ 77],\n",
       "        [ 80],\n",
       "        [ 78],\n",
       "        [ 80],\n",
       "        [ 89],\n",
       "        [ 78],\n",
       "        [ 81],\n",
       "        [ 83],\n",
       "        [ 80],\n",
       "        [ 74],\n",
       "        [ 20],\n",
       "        [177],\n",
       "        [ 77],\n",
       "        [ 74],\n",
       "        [  0],\n",
       "        [  0],\n",
       "        [  0],\n",
       "        [  0]],\n",
       "\n",
       "       [[  0],\n",
       "        [  0],\n",
       "        [  0],\n",
       "        [ 49],\n",
       "        [ 77],\n",
       "        [ 91],\n",
       "        [200],\n",
       "        [  0],\n",
       "        [ 83],\n",
       "        [ 95],\n",
       "        [ 86],\n",
       "        [ 88],\n",
       "        [ 88],\n",
       "        [ 89],\n",
       "        [ 88],\n",
       "        [ 89],\n",
       "        [ 88],\n",
       "        [ 83],\n",
       "        [ 89],\n",
       "        [ 86],\n",
       "        [  0],\n",
       "        [191],\n",
       "        [ 78],\n",
       "        [ 80],\n",
       "        [ 24],\n",
       "        [  0],\n",
       "        [  0],\n",
       "        [  0]],\n",
       "\n",
       "       [[  0],\n",
       "        [  0],\n",
       "        [  0],\n",
       "        [ 54],\n",
       "        [ 71],\n",
       "        [108],\n",
       "        [165],\n",
       "        [  0],\n",
       "        [ 24],\n",
       "        [ 57],\n",
       "        [ 52],\n",
       "        [ 57],\n",
       "        [ 60],\n",
       "        [ 60],\n",
       "        [ 60],\n",
       "        [ 63],\n",
       "        [ 63],\n",
       "        [ 77],\n",
       "        [ 89],\n",
       "        [ 52],\n",
       "        [  0],\n",
       "        [211],\n",
       "        [ 97],\n",
       "        [ 77],\n",
       "        [ 61],\n",
       "        [  0],\n",
       "        [  0],\n",
       "        [  0]],\n",
       "\n",
       "       [[  0],\n",
       "        [  0],\n",
       "        [  0],\n",
       "        [ 68],\n",
       "        [ 91],\n",
       "        [117],\n",
       "        [137],\n",
       "        [  0],\n",
       "        [  0],\n",
       "        [  0],\n",
       "        [  0],\n",
       "        [  0],\n",
       "        [  0],\n",
       "        [  0],\n",
       "        [  0],\n",
       "        [  0],\n",
       "        [  0],\n",
       "        [  0],\n",
       "        [  0],\n",
       "        [  0],\n",
       "        [ 18],\n",
       "        [216],\n",
       "        [ 94],\n",
       "        [ 97],\n",
       "        [ 57],\n",
       "        [  0],\n",
       "        [  0],\n",
       "        [  0]],\n",
       "\n",
       "       [[  0],\n",
       "        [  0],\n",
       "        [  0],\n",
       "        [ 54],\n",
       "        [115],\n",
       "        [105],\n",
       "        [185],\n",
       "        [  0],\n",
       "        [  0],\n",
       "        [  1],\n",
       "        [  0],\n",
       "        [  0],\n",
       "        [  0],\n",
       "        [  0],\n",
       "        [  0],\n",
       "        [  0],\n",
       "        [  0],\n",
       "        [  0],\n",
       "        [  0],\n",
       "        [  0],\n",
       "        [  0],\n",
       "        [153],\n",
       "        [ 78],\n",
       "        [106],\n",
       "        [ 37],\n",
       "        [  0],\n",
       "        [  0],\n",
       "        [  0]],\n",
       "\n",
       "       [[  0],\n",
       "        [  0],\n",
       "        [  0],\n",
       "        [ 18],\n",
       "        [ 61],\n",
       "        [ 41],\n",
       "        [103],\n",
       "        [  0],\n",
       "        [  0],\n",
       "        [  0],\n",
       "        [  0],\n",
       "        [  0],\n",
       "        [  0],\n",
       "        [  0],\n",
       "        [  0],\n",
       "        [  0],\n",
       "        [  0],\n",
       "        [  0],\n",
       "        [  0],\n",
       "        [  0],\n",
       "        [  0],\n",
       "        [106],\n",
       "        [ 47],\n",
       "        [ 69],\n",
       "        [ 23],\n",
       "        [  0],\n",
       "        [  0],\n",
       "        [  0]]], dtype=uint8)"
      ]
     },
     "execution_count": 16,
     "metadata": {},
     "output_type": "execute_result"
    }
   ],
   "source": [
    "# Getting data out of the pipeline\n",
    "dataiterator.next()['image']"
   ]
  },
  {
   "cell_type": "code",
   "execution_count": 17,
   "id": "c6d4cc4c-ad01-4ab4-b799-9b8d85b8dda6",
   "metadata": {},
   "outputs": [
    {
     "data": {
      "image/png": "[encoded data removed]",
      "text/plain": [
       "<Figure size 2000x2000 with 4 Axes>"
      ]
     },
     "metadata": {},
     "output_type": "display_data"
    }
   ],
   "source": [
    "# Setup the subplot formatting \n",
    "fig, ax = plt.subplots(ncols=4, figsize=(20,20))\n",
    "# Loop four times and get images \n",
    "for idx in range(4): \n",
    "    # Grab an image and label\n",
    "    sample = dataiterator.next()\n",
    "    # Plot the image using a specific subplot \n",
    "    ax[idx].imshow(np.squeeze(sample['image'])) # requires removing 1 dimension as it currently is (28, 28, 1), we want (28, 28)\n",
    "    # Appending the image label as the plot title \n",
    "    ax[idx].title.set_text(sample['label'])"
   ]
  },
  {
   "cell_type": "code",
   "execution_count": 18,
   "id": "86751dd0-4889-46e1-895e-3ff575a45765",
   "metadata": {},
   "outputs": [],
   "source": [
    "# Scale and return images only \n",
    "def scale_images(data): \n",
    "    image = data['image']\n",
    "    return image / 255"
   ]
  },
  {
   "cell_type": "code",
   "execution_count": 19,
   "id": "01ca3fa5-bfaa-4779-8e5f-48d7e5638045",
   "metadata": {},
   "outputs": [],
   "source": [
    "# MCSHBAP\n",
    "# Reload the dataset \n",
    "ds = tfds.load('fashion_mnist', split='train')\n",
    "# Running the dataset through the scale_images preprocessing step\n",
    "ds = ds.map(scale_images) \n",
    "# Cache the dataset for that batch \n",
    "ds = ds.cache()\n",
    "# Shuffle it up (60k samples https://www.tensorflow.org/datasets/catalog/fashion_mnist)\n",
    "ds = ds.shuffle(60000)\n",
    "# Batch into 128 images per sample\n",
    "ds = ds.batch(128)\n",
    "# Reduces the likelihood of bottlenecking \n",
    "ds = ds.prefetch(64)"
   ]
  },
  {
   "cell_type": "code",
   "execution_count": null,
   "id": "4dc9d408-c786-4b4b-9d4f-fa9a96dff2fd",
   "metadata": {},
   "outputs": [],
   "source": [
    "# 60,000 images in batches of 128"
   ]
  },
  {
   "cell_type": "code",
   "execution_count": 20,
   "id": "75474863-2b11-4209-8284-d24f5e2b53a3",
   "metadata": {},
   "outputs": [
    {
     "data": {
      "text/plain": [
       "(128, 28, 28, 1)"
      ]
     },
     "execution_count": 20,
     "metadata": {},
     "output_type": "execute_result"
    }
   ],
   "source": [
    "ds.as_numpy_iterator().next().shape"
   ]
  },
  {
   "cell_type": "markdown",
   "id": "173bdf1e-b5a2-4a07-9a7a-a498bf09e899",
   "metadata": {},
   "source": [
    "# 3. Build Neural Network"
   ]
  },
  {
   "cell_type": "markdown",
   "id": "4912376a-2b76-49ae-934d-724633c41a81",
   "metadata": {},
   "source": [
    "## 3.1 Import modelling components"
   ]
  },
  {
   "cell_type": "code",
   "execution_count": 33,
   "id": "81ce0b1e-b36f-491b-9de6-461f0c55a0eb",
   "metadata": {},
   "outputs": [],
   "source": [
    "# Bring in the sequential api for the generator and discriminator\n",
    "from tensorflow.keras.models import Sequential\n",
    "# Bring in the layers for the neural network\n",
    "from tensorflow.keras.layers import Conv2D, Dense, Flatten, Reshape, LeakyReLU, Dropout, UpSampling2D"
   ]
  },
  {
   "cell_type": "markdown",
   "id": "f83104ba-2b38-4129-9b95-e4bda20084ca",
   "metadata": {},
   "source": [
    "## 3.2 Builed Generator"
   ]
  },
  {
   "cell_type": "code",
   "execution_count": 34,
   "id": "b8d08551-27e3-495f-bc95-2f59b8ccc450",
   "metadata": {},
   "outputs": [],
   "source": [
    "def build_generator(): \n",
    "    model = Sequential()\n",
    "    \n",
    "    # Takes in random values and reshapes it to 7x7x128\n",
    "    # Beginnings of a generated image\n",
    "    model.add(Dense(7*7*128, input_dim=128)) # generate based on 128 random values entered (latent space)\n",
    "    model.add(LeakyReLU(0.2))\n",
    "    model.add(Reshape((7,7,128)))\n",
    "    \n",
    "    # Upsampling block 1 \n",
    "    model.add(UpSampling2D())\n",
    "    model.add(Conv2D(128, 5, padding='same'))\n",
    "    model.add(LeakyReLU(0.2))\n",
    "    \n",
    "    # Upsampling block 2 \n",
    "    model.add(UpSampling2D())\n",
    "    model.add(Conv2D(128, 5, padding='same'))\n",
    "    model.add(LeakyReLU(0.2))\n",
    "    \n",
    "    # Convolutional block 1 (now 28x28x128)\n",
    "    model.add(Conv2D(128, 4, padding='same'))\n",
    "    model.add(LeakyReLU(0.2))\n",
    "    \n",
    "    # Convolutional block 2\n",
    "    model.add(Conv2D(128, 4, padding='same'))\n",
    "    model.add(LeakyReLU(0.2))\n",
    "    \n",
    "    # Conv layer to get to one channel\n",
    "    model.add(Conv2D(1, 4, padding='same', activation='sigmoid'))\n",
    "    \n",
    "    return model"
   ]
  },
  {
   "cell_type": "code",
   "execution_count": 35,
   "id": "4f04982d-7e5c-43ca-8b40-cd81f07e3339",
   "metadata": {},
   "outputs": [],
   "source": [
    "generator = build_generator()"
   ]
  },
  {
   "cell_type": "code",
   "execution_count": 36,
   "id": "50f45b3d-4e9e-49bb-86ff-b7b0bdcab54e",
   "metadata": {},
   "outputs": [
    {
     "name": "stdout",
     "output_type": "stream",
     "text": [
      "Model: \"sequential\"\n",
      "_________________________________________________________________\n",
      " Layer (type)                Output Shape              Param #   \n",
      "=================================================================\n",
      " dense (Dense)               (None, 6272)              809088    \n",
      "                                                                 \n",
      " leaky_re_lu (LeakyReLU)     (None, 6272)              0         \n",
      "                                                                 \n",
      " reshape (Reshape)           (None, 7, 7, 128)         0         \n",
      "                                                                 \n",
      " up_sampling2d (UpSampling2D  (None, 14, 14, 128)      0         \n",
      " )                                                               \n",
      "                                                                 \n",
      " conv2d (Conv2D)             (None, 14, 14, 128)       409728    \n",
      "                                                                 \n",
      " leaky_re_lu_1 (LeakyReLU)   (None, 14, 14, 128)       0         \n",
      "                                                                 \n",
      " up_sampling2d_1 (UpSampling  (None, 28, 28, 128)      0         \n",
      " 2D)                                                             \n",
      "                                                                 \n",
      " conv2d_1 (Conv2D)           (None, 28, 28, 128)       409728    \n",
      "                                                                 \n",
      " leaky_re_lu_2 (LeakyReLU)   (None, 28, 28, 128)       0         \n",
      "                                                                 \n",
      " conv2d_2 (Conv2D)           (None, 28, 28, 128)       262272    \n",
      "                                                                 \n",
      " leaky_re_lu_3 (LeakyReLU)   (None, 28, 28, 128)       0         \n",
      "                                                                 \n",
      " conv2d_3 (Conv2D)           (None, 28, 28, 128)       262272    \n",
      "                                                                 \n",
      " leaky_re_lu_4 (LeakyReLU)   (None, 28, 28, 128)       0         \n",
      "                                                                 \n",
      " conv2d_4 (Conv2D)           (None, 28, 28, 1)         2049      \n",
      "                                                                 \n",
      "=================================================================\n",
      "Total params: 2,155,137\n",
      "Trainable params: 2,155,137\n",
      "Non-trainable params: 0\n",
      "_________________________________________________________________\n"
     ]
    }
   ],
   "source": [
    "generator.summary()"
   ]
  },
  {
   "cell_type": "code",
   "execution_count": 60,
   "id": "408af048-fbb2-442b-bb2f-67766c82b64f",
   "metadata": {},
   "outputs": [],
   "source": [
    "img = generator.predict(np.random.randn(4,128,1))"
   ]
  },
  {
   "cell_type": "code",
   "execution_count": 61,
   "id": "fe05d0bc-fde7-47ea-b07f-a49c549299d5",
   "metadata": {},
   "outputs": [
    {
     "data": {
      "text/plain": [
       "(4, 28, 28, 1)"
      ]
     },
     "execution_count": 61,
     "metadata": {},
     "output_type": "execute_result"
    }
   ],
   "source": [
    "img.shape"
   ]
  },
  {
   "cell_type": "code",
   "execution_count": 45,
   "id": "0c1a3c72-fa92-4213-9834-553cca2c462d",
   "metadata": {},
   "outputs": [
    {
     "data": {
      "image/png": "[encoded data removed]",
      "text/plain": [
       "<Figure size 2000x2000 with 4 Axes>"
      ]
     },
     "metadata": {},
     "output_type": "display_data"
    }
   ],
   "source": [
    "# Generate new fashion\n",
    "img = generator.predict(np.random.randn(4,128,1))\n",
    "# Setup the subplot formatting \n",
    "fig, ax = plt.subplots(ncols=4, figsize=(20,20))\n",
    "# Loop four times and get images \n",
    "for idx, img in enumerate(img): \n",
    "    # Plot the image using a specific subplot \n",
    "    ax[idx].imshow(np.squeeze(img))\n",
    "    # Appending the image label as the plot title \n",
    "    ax[idx].title.set_text(idx)"
   ]
  },
  {
   "cell_type": "markdown",
   "id": "bd659ced-2deb-4856-9f38-94596aeb29d9",
   "metadata": {},
   "source": [
    "## 3.3 Build Discriminator"
   ]
  },
  {
   "cell_type": "code",
   "execution_count": 49,
   "id": "990d1582-db03-492d-8145-6045a47d0f41",
   "metadata": {},
   "outputs": [],
   "source": [
    "def build_discriminator(): \n",
    "    model = Sequential()\n",
    "    \n",
    "    # First Conv Block\n",
    "    model.add(Conv2D(32, 5, input_shape = (28,28,1))) # 32 filters, 5x5 size, input_shape is same as the output of the generator\n",
    "    model.add(LeakyReLU(0.2))\n",
    "    model.add(Dropout(0.4))\n",
    "    \n",
    "    # Second Conv Block\n",
    "    model.add(Conv2D(64, 5))\n",
    "    model.add(LeakyReLU(0.2))\n",
    "    model.add(Dropout(0.4))\n",
    "    \n",
    "    # Third Conv Block\n",
    "    model.add(Conv2D(128, 5))\n",
    "    model.add(LeakyReLU(0.2))\n",
    "    model.add(Dropout(0.4))\n",
    "    \n",
    "    # Fourth Conv Block\n",
    "    model.add(Conv2D(256, 5))\n",
    "    model.add(LeakyReLU(0.2))\n",
    "    model.add(Dropout(0.4))\n",
    "    \n",
    "    # Flatten then pass to dense layer\n",
    "    model.add(Flatten())\n",
    "    model.add(Dropout(0.4))\n",
    "    model.add(Dense(1, activation='sigmoid'))\n",
    "    \n",
    "    return model "
   ]
  },
  {
   "cell_type": "code",
   "execution_count": 50,
   "id": "7638bd98-50da-49a1-aec0-aefb61d4d13b",
   "metadata": {},
   "outputs": [],
   "source": [
    "discriminator = build_discriminator()"
   ]
  },
  {
   "cell_type": "code",
   "execution_count": 51,
   "id": "57f622bc-f90e-4071-9277-9a2da231f38f",
   "metadata": {},
   "outputs": [
    {
     "name": "stdout",
     "output_type": "stream",
     "text": [
      "Model: \"sequential_2\"\n",
      "_________________________________________________________________\n",
      " Layer (type)                Output Shape              Param #   \n",
      "=================================================================\n",
      " conv2d_9 (Conv2D)           (None, 24, 24, 32)        832       \n",
      "                                                                 \n",
      " leaky_re_lu_9 (LeakyReLU)   (None, 24, 24, 32)        0         \n",
      "                                                                 \n",
      " dropout_5 (Dropout)         (None, 24, 24, 32)        0         \n",
      "                                                                 \n",
      " conv2d_10 (Conv2D)          (None, 20, 20, 64)        51264     \n",
      "                                                                 \n",
      " leaky_re_lu_10 (LeakyReLU)  (None, 20, 20, 64)        0         \n",
      "                                                                 \n",
      " dropout_6 (Dropout)         (None, 20, 20, 64)        0         \n",
      "                                                                 \n",
      " conv2d_11 (Conv2D)          (None, 16, 16, 128)       204928    \n",
      "                                                                 \n",
      " leaky_re_lu_11 (LeakyReLU)  (None, 16, 16, 128)       0         \n",
      "                                                                 \n",
      " dropout_7 (Dropout)         (None, 16, 16, 128)       0         \n",
      "                                                                 \n",
      " conv2d_12 (Conv2D)          (None, 12, 12, 256)       819456    \n",
      "                                                                 \n",
      " leaky_re_lu_12 (LeakyReLU)  (None, 12, 12, 256)       0         \n",
      "                                                                 \n",
      " dropout_8 (Dropout)         (None, 12, 12, 256)       0         \n",
      "                                                                 \n",
      " flatten_1 (Flatten)         (None, 36864)             0         \n",
      "                                                                 \n",
      " dropout_9 (Dropout)         (None, 36864)             0         \n",
      "                                                                 \n",
      " dense_2 (Dense)             (None, 1)                 36865     \n",
      "                                                                 \n",
      "=================================================================\n",
      "Total params: 1,113,345\n",
      "Trainable params: 1,113,345\n",
      "Non-trainable params: 0\n",
      "_________________________________________________________________\n"
     ]
    }
   ],
   "source": [
    "discriminator.summary()"
   ]
  },
  {
   "cell_type": "code",
   "execution_count": 64,
   "id": "08996071-9b42-4269-8c86-13370e56065b",
   "metadata": {},
   "outputs": [],
   "source": [
    "img = img[0]"
   ]
  },
  {
   "cell_type": "code",
   "execution_count": 65,
   "id": "ec37ddf6-9c1e-442e-b4c3-6d132d30985f",
   "metadata": {},
   "outputs": [
    {
     "data": {
      "text/plain": [
       "(28, 28, 1)"
      ]
     },
     "execution_count": 65,
     "metadata": {},
     "output_type": "execute_result"
    }
   ],
   "source": [
    "img.shape"
   ]
  },
  {
   "cell_type": "code",
   "execution_count": 66,
   "id": "77dcb668-a913-4202-ab1e-ec59aa86e814",
   "metadata": {},
   "outputs": [
    {
     "data": {
      "text/plain": [
       "array([[0.50700086]], dtype=float32)"
      ]
     },
     "execution_count": 66,
     "metadata": {},
     "output_type": "execute_result"
    }
   ],
   "source": [
    "discriminator.predict(np.expand_dims(img,0)) # has to be the batches of 4 from 61 above, else do what is here"
   ]
  },
  {
   "cell_type": "markdown",
   "id": "4b3cf42d-681c-4626-905d-45836125385e",
   "metadata": {},
   "source": [
    "# 4. Construct Training Loop\n",
    "\n",
    "- Need to find a balance between the speed at which the dicriminator learns and generator trains for\n",
    "    - we do this by adding random noise\n",
    "- Takes a long time to train a DC-GAN"
   ]
  },
  {
   "cell_type": "markdown",
   "id": "11e7784c-988b-4d0c-9287-0e6814c675a3",
   "metadata": {},
   "source": [
    "## 4.1 Setup optimizers and losses"
   ]
  },
  {
   "cell_type": "code",
   "execution_count": 67,
   "id": "065cdabb-7669-49b0-b42e-b82ca6f96f49",
   "metadata": {},
   "outputs": [],
   "source": [
    "# Adam is going to be the optimizer for both\n",
    "from tensorflow.keras.optimizers import Adam\n",
    "# Binary cross entropy is going to be the loss for both \n",
    "from tensorflow.keras.losses import BinaryCrossentropy"
   ]
  },
  {
   "cell_type": "code",
   "execution_count": 70,
   "id": "c0a4df5f-668c-4558-8d64-61ceee45090d",
   "metadata": {},
   "outputs": [],
   "source": [
    "g_opt = Adam(learning_rate=0.0001) # faster (10x) than discriminator to prevent discriminator learning too fast\n",
    "d_opt = Adam(learning_rate=0.00001) \n",
    "g_loss = BinaryCrossentropy()\n",
    "d_loss = BinaryCrossentropy()"
   ]
  },
  {
   "cell_type": "markdown",
   "id": "3e8955cd-8e9d-4dc5-bad1-28515e002208",
   "metadata": {},
   "source": [
    "## 4.2 Build subclassed model\n",
    "- Requires a re-definition of what `.fit` does as the discriminator and genetaror have to learn independently"
   ]
  },
  {
   "cell_type": "code",
   "execution_count": 69,
   "id": "da0d946f-79ae-46bf-aeb5-25bc64ae3076",
   "metadata": {},
   "outputs": [],
   "source": [
    "# Importing the base model class to subclass our training step \n",
    "from tensorflow.keras.models import Model"
   ]
  },
  {
   "cell_type": "code",
   "execution_count": 71,
   "id": "137c70c7-06a3-40a3-8a0f-effdd071fe94",
   "metadata": {},
   "outputs": [],
   "source": [
    "class FashionGAN(Model): \n",
    "    def __init__(self, generator, discriminator, *args, **kwargs):\n",
    "        # Pass through args and kwargs to base class \n",
    "        super().__init__(*args, **kwargs)\n",
    "        \n",
    "        # Create attributes for gen and disc\n",
    "        self.generator = generator \n",
    "        self.discriminator = discriminator \n",
    "        \n",
    "    def compile(self, g_opt, d_opt, g_loss, d_loss, *args, **kwargs): \n",
    "        # Compile with base class\n",
    "        super().compile(*args, **kwargs)\n",
    "        \n",
    "        # Create attributes for losses and optimizers\n",
    "        self.g_opt = g_opt\n",
    "        self.d_opt = d_opt\n",
    "        self.g_loss = g_loss\n",
    "        self.d_loss = d_loss \n",
    "\n",
    "    def train_step(self, batch):\n",
    "        # Get the data \n",
    "        real_images = batch\n",
    "        fake_images = self.generator(tf.random.normal((128, 128, 1)), training=False)\n",
    "        \n",
    "        # Train the discriminator\n",
    "        with tf.GradientTape() as d_tape: \n",
    "            # Pass the real and fake images to the discriminator model\n",
    "            yhat_real = self.discriminator(real_images, training=True) \n",
    "            yhat_fake = self.discriminator(fake_images, training=True)\n",
    "            yhat_realfake = tf.concat([yhat_real, yhat_fake], axis=0)\n",
    "            \n",
    "            # Create labels for real and fakes images\n",
    "            y_realfake = tf.concat([tf.zeros_like(yhat_real), tf.ones_like(yhat_fake)], axis=0)\n",
    "            \n",
    "            # Add some noise to the TRUE outputs\n",
    "            noise_real = 0.15*tf.random.uniform(tf.shape(yhat_real))\n",
    "            noise_fake = -0.15*tf.random.uniform(tf.shape(yhat_fake))\n",
    "            y_realfake += tf.concat([noise_real, noise_fake], axis=0)\n",
    "            \n",
    "            # Calculate loss - BINARYCROSS \n",
    "            total_d_loss = self.d_loss(y_realfake, yhat_realfake)\n",
    "            \n",
    "        # Apply backpropagation - nn learn \n",
    "        dgrad = d_tape.gradient(total_d_loss, self.discriminator.trainable_variables) \n",
    "        self.d_opt.apply_gradients(zip(dgrad, self.discriminator.trainable_variables))\n",
    "        \n",
    "        # Train the generator \n",
    "        with tf.GradientTape() as g_tape: \n",
    "            # Generate some new images\n",
    "            gen_images = self.generator(tf.random.normal((128,128,1)), training=True)\n",
    "                                        \n",
    "            # Create the predicted labels from the discriminator\n",
    "            predicted_labels = self.discriminator(gen_images, training=False)\n",
    "                                        \n",
    "            # Calculate loss - trick to training to fake out the discriminator (discrim gives 1 for fake image)\n",
    "            total_g_loss = self.g_loss(tf.zeros_like(predicted_labels), predicted_labels) \n",
    "            # Implying the generated images are real images - reward generator for faking the discriminator (i.e. discrim predicts the generated image is real)\n",
    "            \n",
    "        # Apply backprop\n",
    "        ggrad = g_tape.gradient(total_g_loss, self.generator.trainable_variables)\n",
    "        self.g_opt.apply_gradients(zip(ggrad, self.generator.trainable_variables))\n",
    "        \n",
    "        return {\"d_loss\":total_d_loss, \"g_loss\":total_g_loss}"
   ]
  },
  {
   "cell_type": "code",
   "execution_count": 72,
   "id": "97578ba0-4772-49c3-ae3d-3e8fc4ef8945",
   "metadata": {},
   "outputs": [],
   "source": [
    "# Create instance of subclassed model\n",
    "fashgan = FashionGAN(generator, discriminator)"
   ]
  },
  {
   "cell_type": "code",
   "execution_count": 73,
   "id": "3f9e22f1-a287-47e5-8f00-52df0589202d",
   "metadata": {},
   "outputs": [],
   "source": [
    "# Compile the model\n",
    "fashgan.compile(g_opt, d_opt, g_loss, d_loss)"
   ]
  },
  {
   "cell_type": "markdown",
   "id": "b7fad1ad-6d60-4283-95d5-c405535b4134",
   "metadata": {},
   "source": [
    "## 4.3 Build Callbacks"
   ]
  },
  {
   "cell_type": "code",
   "execution_count": 75,
   "id": "b4b31ad8-91d7-476b-8e5c-8edf5afaa6ca",
   "metadata": {},
   "outputs": [],
   "source": [
    "import os\n",
    "from tensorflow.keras.preprocessing.image import array_to_img\n",
    "from tensorflow.keras.callbacks import Callback"
   ]
  },
  {
   "cell_type": "code",
   "execution_count": 78,
   "id": "71a57c78-3490-4e78-be1f-29779c386a90",
   "metadata": {},
   "outputs": [],
   "source": [
    "# Save examples of the generated images as the model trains\n",
    "class ModelMonitor(Callback):\n",
    "    def __init__(self, num_img=3, latent_dim=128): # number of images to save, how big latent dimension is\n",
    "        self.num_img = num_img\n",
    "        self.latent_dim = latent_dim\n",
    "\n",
    "    def on_epoch_end(self, epoch, logs=None):\n",
    "        random_latent_vectors = tf.random.uniform((self.num_img, self.latent_dim,1))\n",
    "        generated_images = self.model.generator(random_latent_vectors)\n",
    "        generated_images *= 255\n",
    "        generated_images.numpy()\n",
    "        for i in range(self.num_img):\n",
    "            img = array_to_img(generated_images[i])\n",
    "            img.save(os.path.join('images', f'generated_img_{epoch}_{i}.png'))"
   ]
  },
  {
   "cell_type": "markdown",
   "id": "97b2cf8e-9581-4247-8f48-5f8be1e6dd40",
   "metadata": {},
   "source": [
    "## 4.3 Train\n",
    "- recommend 2000 epochs"
   ]
  },
  {
   "cell_type": "code",
   "execution_count": 79,
   "id": "224ea3cb-5963-4898-b45d-1316a739a93b",
   "metadata": {},
   "outputs": [
    {
     "name": "stdout",
     "output_type": "stream",
     "text": [
      "Epoch 1/20\n",
      "469/469 [==============================] - 99s 200ms/step - d_loss: 0.5605 - g_loss: 0.8020\n",
      "Epoch 2/20\n",
      "469/469 [==============================] - 85s 181ms/step - d_loss: 0.3735 - g_loss: 5.2904\n",
      "Epoch 3/20\n",
      "469/469 [==============================] - 81s 172ms/step - d_loss: 0.6721 - g_loss: 0.6962\n",
      "Epoch 4/20\n",
      "469/469 [==============================] - 87s 186ms/step - d_loss: 0.5805 - g_loss: 0.3191\n",
      "Epoch 5/20\n",
      "469/469 [==============================] - 86s 184ms/step - d_loss: 0.3804 - g_loss: 0.0473\n",
      "Epoch 6/20\n",
      "469/469 [==============================] - 76s 163ms/step - d_loss: 0.5042 - g_loss: 0.1006\n",
      "Epoch 7/20\n",
      "469/469 [==============================] - 77s 163ms/step - d_loss: 0.6567 - g_loss: 0.6068\n",
      "Epoch 8/20\n",
      "469/469 [==============================] - 77s 163ms/step - d_loss: 0.6912 - g_loss: 0.4714\n",
      "Epoch 9/20\n",
      "469/469 [==============================] - 77s 164ms/step - d_loss: 0.6873 - g_loss: 0.5966\n",
      "Epoch 10/20\n",
      "469/469 [==============================] - 86s 184ms/step - d_loss: 0.6959 - g_loss: 0.5916\n",
      "Epoch 11/20\n",
      "469/469 [==============================] - 93s 199ms/step - d_loss: 0.6885 - g_loss: 0.6206\n",
      "Epoch 12/20\n",
      "469/469 [==============================] - 94s 201ms/step - d_loss: 0.6853 - g_loss: 0.6166\n",
      "Epoch 13/20\n",
      "469/469 [==============================] - 83s 178ms/step - d_loss: 0.6910 - g_loss: 0.6280\n",
      "Epoch 14/20\n",
      "469/469 [==============================] - 76s 162ms/step - d_loss: 0.6836 - g_loss: 0.6329\n",
      "Epoch 15/20\n",
      "469/469 [==============================] - 76s 162ms/step - d_loss: 0.6933 - g_loss: 0.6292\n",
      "Epoch 16/20\n",
      "469/469 [==============================] - 76s 163ms/step - d_loss: 0.6848 - g_loss: 0.6219\n",
      "Epoch 17/20\n",
      "469/469 [==============================] - 81s 173ms/step - d_loss: 0.6833 - g_loss: 0.6214\n",
      "Epoch 18/20\n",
      "469/469 [==============================] - 77s 164ms/step - d_loss: 0.6918 - g_loss: 0.6296\n",
      "Epoch 19/20\n",
      "469/469 [==============================] - 76s 163ms/step - d_loss: 0.6936 - g_loss: 0.6279\n",
      "Epoch 20/20\n",
      "469/469 [==============================] - 77s 163ms/step - d_loss: 0.6826 - g_loss: 0.6224\n"
     ]
    }
   ],
   "source": [
    "hist = fashgan.fit(ds, epochs=20, callbacks=[ModelMonitor()])"
   ]
  },
  {
   "cell_type": "markdown",
   "id": "0e6f0bb8-c8f9-43ff-94d2-d106bf0eb5cf",
   "metadata": {},
   "source": [
    "## 4.4 Review Performance"
   ]
  },
  {
   "cell_type": "code",
   "execution_count": 80,
   "id": "65444d32-a726-4179-9048-2adeb882010e",
   "metadata": {},
   "outputs": [
    {
     "data": {
      "image/png": "[encoded data removed]",
      "text/plain": [
       "<Figure size 640x480 with 1 Axes>"
      ]
     },
     "metadata": {},
     "output_type": "display_data"
    }
   ],
   "source": [
    "plt.suptitle('Loss')\n",
    "plt.plot(hist.history['d_loss'], label='d_loss')\n",
    "plt.plot(hist.history['g_loss'], label='g_loss')\n",
    "plt.legend()\n",
    "plt.show()"
   ]
  },
  {
   "cell_type": "markdown",
   "id": "e0c85ead-5d28-44cf-8d32-a0ac9acab70c",
   "metadata": {},
   "source": [
    "# 5. Test out the generator"
   ]
  },
  {
   "cell_type": "markdown",
   "id": "29b781be-943b-4167-80e6-2213c0e12cc8",
   "metadata": {},
   "source": [
    "## 5.1 Generate images"
   ]
  },
  {
   "cell_type": "code",
   "execution_count": 87,
   "id": "fa98e7d1-7264-4e01-b624-3c3b62f6e50d",
   "metadata": {
    "collapsed": true,
    "jupyter": {
     "outputs_hidden": true
    },
    "tags": []
   },
   "outputs": [
    {
     "ename": "ValueError",
     "evalue": "axes don't match array",
     "output_type": "error",
     "traceback": [
      "\u001b[1;31m---------------------------------------------------------------------------\u001b[0m",
      "\u001b[1;31mValueError\u001b[0m                                Traceback (most recent call last)",
      "Cell \u001b[1;32mIn[87], line 1\u001b[0m\n\u001b[1;32m----> 1\u001b[0m \u001b[43mgenerator\u001b[49m\u001b[38;5;241;43m.\u001b[39;49m\u001b[43mload_weights\u001b[49m\u001b[43m(\u001b[49m\u001b[43mos\u001b[49m\u001b[38;5;241;43m.\u001b[39;49m\u001b[43mpath\u001b[49m\u001b[38;5;241;43m.\u001b[39;49m\u001b[43mjoin\u001b[49m\u001b[43m(\u001b[49m\u001b[38;5;124;43m'\u001b[39;49m\u001b[38;5;124;43marchive/generatormodel.h5\u001b[39;49m\u001b[38;5;124;43m'\u001b[39;49m\u001b[43m)\u001b[49m\u001b[43m)\u001b[49m\n",
      "File \u001b[1;32mD:\\Machine Learning\\GAN_fashionMNIST\\gan_mnist\\lib\\site-packages\\keras\\utils\\traceback_utils.py:67\u001b[0m, in \u001b[0;36mfilter_traceback.<locals>.error_handler\u001b[1;34m(*args, **kwargs)\u001b[0m\n\u001b[0;32m     65\u001b[0m \u001b[38;5;28;01mexcept\u001b[39;00m \u001b[38;5;167;01mException\u001b[39;00m \u001b[38;5;28;01mas\u001b[39;00m e:  \u001b[38;5;66;03m# pylint: disable=broad-except\u001b[39;00m\n\u001b[0;32m     66\u001b[0m   filtered_tb \u001b[38;5;241m=\u001b[39m _process_traceback_frames(e\u001b[38;5;241m.\u001b[39m__traceback__)\n\u001b[1;32m---> 67\u001b[0m   \u001b[38;5;28;01mraise\u001b[39;00m e\u001b[38;5;241m.\u001b[39mwith_traceback(filtered_tb) \u001b[38;5;28;01mfrom\u001b[39;00m \u001b[38;5;28;01mNone\u001b[39;00m\n\u001b[0;32m     68\u001b[0m \u001b[38;5;28;01mfinally\u001b[39;00m:\n\u001b[0;32m     69\u001b[0m   \u001b[38;5;28;01mdel\u001b[39;00m filtered_tb\n",
      "File \u001b[1;32mD:\\Machine Learning\\GAN_fashionMNIST\\gan_mnist\\lib\\site-packages\\numpy\\core\\fromnumeric.py:655\u001b[0m, in \u001b[0;36mtranspose\u001b[1;34m(a, axes)\u001b[0m\n\u001b[0;32m    588\u001b[0m \u001b[38;5;129m@array_function_dispatch\u001b[39m(_transpose_dispatcher)\n\u001b[0;32m    589\u001b[0m \u001b[38;5;28;01mdef\u001b[39;00m \u001b[38;5;21mtranspose\u001b[39m(a, axes\u001b[38;5;241m=\u001b[39m\u001b[38;5;28;01mNone\u001b[39;00m):\n\u001b[0;32m    590\u001b[0m \u001b[38;5;250m    \u001b[39m\u001b[38;5;124;03m\"\"\"\u001b[39;00m\n\u001b[0;32m    591\u001b[0m \u001b[38;5;124;03m    Returns an array with axes transposed.\u001b[39;00m\n\u001b[0;32m    592\u001b[0m \n\u001b[1;32m   (...)\u001b[0m\n\u001b[0;32m    653\u001b[0m \n\u001b[0;32m    654\u001b[0m \u001b[38;5;124;03m    \"\"\"\u001b[39;00m\n\u001b[1;32m--> 655\u001b[0m     \u001b[38;5;28;01mreturn\u001b[39;00m \u001b[43m_wrapfunc\u001b[49m\u001b[43m(\u001b[49m\u001b[43ma\u001b[49m\u001b[43m,\u001b[49m\u001b[43m \u001b[49m\u001b[38;5;124;43m'\u001b[39;49m\u001b[38;5;124;43mtranspose\u001b[39;49m\u001b[38;5;124;43m'\u001b[39;49m\u001b[43m,\u001b[49m\u001b[43m \u001b[49m\u001b[43maxes\u001b[49m\u001b[43m)\u001b[49m\n",
      "File \u001b[1;32mD:\\Machine Learning\\GAN_fashionMNIST\\gan_mnist\\lib\\site-packages\\numpy\\core\\fromnumeric.py:59\u001b[0m, in \u001b[0;36m_wrapfunc\u001b[1;34m(obj, method, *args, **kwds)\u001b[0m\n\u001b[0;32m     56\u001b[0m     \u001b[38;5;28;01mreturn\u001b[39;00m _wrapit(obj, method, \u001b[38;5;241m*\u001b[39margs, \u001b[38;5;241m*\u001b[39m\u001b[38;5;241m*\u001b[39mkwds)\n\u001b[0;32m     58\u001b[0m \u001b[38;5;28;01mtry\u001b[39;00m:\n\u001b[1;32m---> 59\u001b[0m     \u001b[38;5;28;01mreturn\u001b[39;00m bound(\u001b[38;5;241m*\u001b[39margs, \u001b[38;5;241m*\u001b[39m\u001b[38;5;241m*\u001b[39mkwds)\n\u001b[0;32m     60\u001b[0m \u001b[38;5;28;01mexcept\u001b[39;00m \u001b[38;5;167;01mTypeError\u001b[39;00m:\n\u001b[0;32m     61\u001b[0m     \u001b[38;5;66;03m# A TypeError occurs if the object does have such a method in its\u001b[39;00m\n\u001b[0;32m     62\u001b[0m     \u001b[38;5;66;03m# class, but its signature is not identical to that of NumPy's. This\u001b[39;00m\n\u001b[1;32m   (...)\u001b[0m\n\u001b[0;32m     66\u001b[0m     \u001b[38;5;66;03m# Call _wrapit from within the except clause to ensure a potential\u001b[39;00m\n\u001b[0;32m     67\u001b[0m     \u001b[38;5;66;03m# exception has a traceback chain.\u001b[39;00m\n\u001b[0;32m     68\u001b[0m     \u001b[38;5;28;01mreturn\u001b[39;00m _wrapit(obj, method, \u001b[38;5;241m*\u001b[39margs, \u001b[38;5;241m*\u001b[39m\u001b[38;5;241m*\u001b[39mkwds)\n",
      "\u001b[1;31mValueError\u001b[0m: axes don't match array"
     ]
    }
   ],
   "source": [
    "generator.load_weights(os.path.join('archive/generatormodel.h5'))"
   ]
  },
  {
   "cell_type": "code",
   "execution_count": 83,
   "id": "eda9ffa2-9dcc-4c76-95ca-e6824d355c0d",
   "metadata": {},
   "outputs": [],
   "source": [
    "imgs = generator.predict(tf.random.normal((16, 128, 1)))"
   ]
  },
  {
   "cell_type": "code",
   "execution_count": 89,
   "id": "b526f650-620b-4feb-8e63-f0321f471104",
   "metadata": {},
   "outputs": [
    {
     "data": {
      "image/png": "[encoded data removed]",
      "text/plain": [
       "<Figure size 1000x1000 with 16 Axes>"
      ]
     },
     "metadata": {},
     "output_type": "display_data"
    }
   ],
   "source": [
    "fig, ax = plt.subplots(ncols=4, nrows=4, figsize=(10,10))\n",
    "for r in range(4): \n",
    "    for c in range(4): \n",
    "        ax[r][c].imshow(imgs[(r+1)*(c+1)-1])"
   ]
  },
  {
   "cell_type": "markdown",
   "id": "0704d70f-91d8-42a6-87d8-05c3082b921d",
   "metadata": {},
   "source": [
    "## 5.2 Save the model"
   ]
  },
  {
   "cell_type": "code",
   "execution_count": 88,
   "id": "5e546be4-b8d2-4539-a0a1-8c2ca5b61dc9",
   "metadata": {},
   "outputs": [
    {
     "name": "stdout",
     "output_type": "stream",
     "text": [
      "WARNING:tensorflow:Compiled the loaded model, but the compiled metrics have yet to be built. `model.compile_metrics` will be empty until you train or evaluate the model.\n"
     ]
    },
    {
     "name": "stderr",
     "output_type": "stream",
     "text": [
      "WARNING:tensorflow:Compiled the loaded model, but the compiled metrics have yet to be built. `model.compile_metrics` will be empty until you train or evaluate the model.\n"
     ]
    },
    {
     "name": "stdout",
     "output_type": "stream",
     "text": [
      "WARNING:tensorflow:Compiled the loaded model, but the compiled metrics have yet to be built. `model.compile_metrics` will be empty until you train or evaluate the model.\n"
     ]
    },
    {
     "name": "stderr",
     "output_type": "stream",
     "text": [
      "WARNING:tensorflow:Compiled the loaded model, but the compiled metrics have yet to be built. `model.compile_metrics` will be empty until you train or evaluate the model.\n"
     ]
    }
   ],
   "source": [
    "generator.save('models/generator.h5')\n",
    "discriminator.save('models/discriminator.h5')"
   ]
  },
  {
   "cell_type": "code",
   "execution_count": null,
   "id": "4f841cdc-263c-4927-ab21-992683c99324",
   "metadata": {},
   "outputs": [],
   "source": []
  }
 ],
 "metadata": {
  "kernelspec": {
   "display_name": "gan_mnist",
   "language": "python",
   "name": "gan_mnist"
  },
  "language_info": {
   "codemirror_mode": {
    "name": "ipython",
    "version": 3
   },
   "file_extension": ".py",
   "mimetype": "text/x-python",
   "name": "python",
   "nbconvert_exporter": "python",
   "pygments_lexer": "ipython3",
   "version": "3.10.9"
  }
 },
 "nbformat": 4,
 "nbformat_minor": 5
}
